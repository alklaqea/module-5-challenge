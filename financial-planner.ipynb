{
 "cells": [
  {
   "cell_type": "markdown",
   "metadata": {},
   "source": [
    "# Unit 5 - Financial Planning"
   ]
  },
  {
   "cell_type": "code",
   "execution_count": 1,
   "metadata": {
    "tags": []
   },
   "outputs": [],
   "source": [
    "# Initial imports\n",
    "import os\n",
    "import requests\n",
    "import pandas as pd\n",
    "from dotenv import load_dotenv\n",
    "import alpaca_trade_api as tradeapi\n",
    "from MCForecastTools import MCSimulation\n",
    "import warnings\n",
    "warnings.filterwarnings('ignore')\n",
    "\n",
    "%matplotlib inline\n",
    "from matplotlib import pyplot as plt"
   ]
  },
  {
   "cell_type": "code",
   "execution_count": 2,
   "metadata": {
    "tags": []
   },
   "outputs": [
    {
     "data": {
      "text/plain": [
       "True"
      ]
     },
     "execution_count": 2,
     "metadata": {},
     "output_type": "execute_result"
    }
   ],
   "source": [
    "# Load .env enviroment variables\n",
    "load_dotenv()"
   ]
  },
  {
   "cell_type": "markdown",
   "metadata": {},
   "source": [
    "## Part 1 - Personal Finance Planner"
   ]
  },
  {
   "cell_type": "markdown",
   "metadata": {},
   "source": [
    "### Collect Crypto Prices Using the `requests` Library"
   ]
  },
  {
   "cell_type": "code",
   "execution_count": 3,
   "metadata": {
    "tags": []
   },
   "outputs": [],
   "source": [
    "# Set current amount of crypto assets\n",
    "# YOUR CODE HERE!\n",
    "my_btc = 1.2\n",
    "my_eth = 5.3"
   ]
  },
  {
   "cell_type": "code",
   "execution_count": 4,
   "metadata": {
    "tags": []
   },
   "outputs": [],
   "source": [
    "# Crypto API URLs\n",
    "btc_url = \"https://api.alternative.me/v2/ticker/Bitcoin/?convert=USD\"\n",
    "eth_url = \"https://api.alternative.me/v2/ticker/Ethereum/?convert=USD\""
   ]
  },
  {
   "cell_type": "code",
   "execution_count": 5,
   "metadata": {
    "tags": []
   },
   "outputs": [
    {
     "name": "stdout",
     "output_type": "stream",
     "text": [
      "The current value of your 1.2 BTC is $45204.00\n",
      "The current value of your 5.3 ETH is $11029.30\n"
     ]
    }
   ],
   "source": [
    "# Fetch current BTC price\n",
    "BTC_price = requests.get(btc_url).json()\n",
    "BTC_price = BTC_price[\"data\"][\"1\"][\"quotes\"][\"USD\"][\"price\"]\n",
    "\n",
    "# Fetch current ETH price\n",
    "\n",
    "ETH_price = requests.get(eth_url).json()\n",
    "ETH_price = ETH_price[\"data\"][\"1027\"][\"quotes\"][\"USD\"][\"price\"]\n",
    "\n",
    "my_eth_value = ETH_price * my_eth\n",
    "my_eth_value\n",
    "\n",
    "\n",
    "# Compute current value of my crpto\n",
    "my_btc_value = BTC_price * my_btc\n",
    "my_eth_value = ETH_price * my_eth\n",
    "\n",
    "# Print current crypto wallet balance\n",
    "print(f\"The current value of your {my_btc} BTC is ${my_btc_value:0.2f}\")\n",
    "print(f\"The current value of your {my_eth} ETH is ${my_eth_value:0.2f}\")"
   ]
  },
  {
   "cell_type": "markdown",
   "metadata": {},
   "source": [
    "### Collect Investments Data Using Alpaca: `SPY` (stocks) and `AGG` (bonds)"
   ]
  },
  {
   "cell_type": "code",
   "execution_count": 6,
   "metadata": {
    "tags": []
   },
   "outputs": [],
   "source": [
    "# Set current amount of shares\n",
    "my_agg = 200\n",
    "my_spy = 50"
   ]
  },
  {
   "cell_type": "code",
   "execution_count": 7,
   "metadata": {
    "tags": []
   },
   "outputs": [],
   "source": [
    "# Set Alpaca API key and secret\n",
    "# YOUR CODE HERE!\n",
    "ALPACA_API_KEY = os.getenv(\"ALPACA_API_KEY\")\n",
    "ALPACA_SECRET_KEY = os.getenv(\"ALPACA_SECRET_KEY\")\n",
    "\n",
    "# Create the Alpaca API object\n",
    "# YOUR CODE HERE!\n",
    "api = tradeapi.REST(\n",
    "   ALPACA_API_KEY,\n",
    "   ALPACA_SECRET_KEY,\n",
    "   api_version = \"v2\"\n",
    "    \n",
    ")\n"
   ]
  },
  {
   "cell_type": "code",
   "execution_count": 31,
   "metadata": {
    "tags": []
   },
   "outputs": [
    {
     "data": {
      "text/html": [
       "<div>\n",
       "<style scoped>\n",
       "    .dataframe tbody tr th:only-of-type {\n",
       "        vertical-align: middle;\n",
       "    }\n",
       "\n",
       "    .dataframe tbody tr th {\n",
       "        vertical-align: top;\n",
       "    }\n",
       "\n",
       "    .dataframe thead th {\n",
       "        text-align: right;\n",
       "    }\n",
       "</style>\n",
       "<table border=\"1\" class=\"dataframe\">\n",
       "  <thead>\n",
       "    <tr style=\"text-align: right;\">\n",
       "      <th></th>\n",
       "      <th></th>\n",
       "      <th>close</th>\n",
       "    </tr>\n",
       "    <tr>\n",
       "      <th></th>\n",
       "      <th>timestamp</th>\n",
       "      <th></th>\n",
       "    </tr>\n",
       "  </thead>\n",
       "  <tbody>\n",
       "    <tr>\n",
       "      <th>SPY</th>\n",
       "      <th>2020-08-07 04:00:00+00:00</th>\n",
       "      <td>334.57</td>\n",
       "    </tr>\n",
       "    <tr>\n",
       "      <th>AGG</th>\n",
       "      <th>2020-08-07 04:00:00+00:00</th>\n",
       "      <td>119.43</td>\n",
       "    </tr>\n",
       "  </tbody>\n",
       "</table>\n",
       "</div>"
      ],
      "text/plain": [
       "                                close\n",
       "    timestamp                        \n",
       "SPY 2020-08-07 04:00:00+00:00  334.57\n",
       "AGG 2020-08-07 04:00:00+00:00  119.43"
      ]
     },
     "execution_count": 31,
     "metadata": {},
     "output_type": "execute_result"
    }
   ],
   "source": [
    "# Format current date as ISO format\n",
    "# YOUR CODE HERE!\n",
    "start_date = pd.Timestamp(\"2020-08-07\", tz = \"America/New_York\").isoformat()\n",
    "end_date = pd.Timestamp(\"2020-08-07\", tz = \"America/New_York\").isoformat()\n",
    "\n",
    "# Set the tickers\n",
    "tickers = [\"AGG\", \"SPY\"]\n",
    "\n",
    "# Set timeframe to \"1Day\" for Alpaca API\n",
    "timeframe = \"1Day\"\n",
    "\n",
    "# Get current closing prices for SPY and AGG\n",
    "ticker_data = api.get_bars(\n",
    "    tickers,\n",
    "    timeframe,\n",
    "    start_date,\n",
    "    end_date\n",
    "    \n",
    ").df\n",
    "\n",
    "\n",
    "\n",
    "# Reorganize the DataFrame\n",
    "# Separate ticker data\n",
    "SPY = ticker_data[ticker_data[\"symbol\"] == \"SPY\"]\n",
    "SPY_close_df = SPY[\"close\"]\n",
    "SPY_close_df = pd.DataFrame(SPY_close_df)\n",
    "\n",
    "\n",
    "AGG = ticker_data[ticker_data[\"symbol\"] == \"AGG\"]\n",
    "AGG_close_df = AGG[\"close\"]\n",
    "AGG_close_df = pd.DataFrame(AGG_close_df)\n",
    "\n",
    "# Concatenate the ticker DataFrames\n",
    "\n",
    "SPY_AGG_combined = pd.concat([SPY_close_df,AGG_close_df], keys=[\"SPY\", \"AGG\"])\n",
    "# Preview DataFrame\n",
    "SPY_AGG_combined"
   ]
  },
  {
   "cell_type": "code",
   "execution_count": 9,
   "metadata": {},
   "outputs": [
    {
     "name": "stdout",
     "output_type": "stream",
     "text": [
      "Current AGG closing price: $119.43\n",
      "Current SPY closing price: $334.57\n"
     ]
    }
   ],
   "source": [
    "# Pick AGG and SPY close prices\n",
    "SPY_closing_price = SPY_AGG_combined.iloc[0].at[\"close\"]\n",
    "AGG_closing_price =  SPY_AGG_combined.iloc[1].at[\"close\"]\n",
    "\n",
    "# Print AGG and SPY close prices\n",
    "print(f\"Current AGG closing price: ${AGG_closing_price}\")\n",
    "print(f\"Current SPY closing price: ${SPY_closing_price}\")"
   ]
  },
  {
   "cell_type": "code",
   "execution_count": 10,
   "metadata": {},
   "outputs": [
    {
     "name": "stdout",
     "output_type": "stream",
     "text": [
      "The current value of your 50 SPY shares is $16728.50\n",
      "The current value of your 200 AGG shares is $23886.00\n"
     ]
    }
   ],
   "source": [
    "# Compute the current value of shares\n",
    "# YOUR CODE HERE!\n",
    "my_spy_value = my_spy * SPY_closing_price\n",
    "my_agg_value = my_agg * AGG_closing_price\n",
    "# Print current value of shares\n",
    "print(f\"The current value of your {my_spy} SPY shares is ${my_spy_value:0.2f}\")\n",
    "print(f\"The current value of your {my_agg} AGG shares is ${my_agg_value:0.2f}\")"
   ]
  },
  {
   "cell_type": "markdown",
   "metadata": {},
   "source": [
    "### Savings Health Analysis"
   ]
  },
  {
   "cell_type": "code",
   "execution_count": 11,
   "metadata": {
    "tags": []
   },
   "outputs": [
    {
     "data": {
      "text/html": [
       "<div>\n",
       "<style scoped>\n",
       "    .dataframe tbody tr th:only-of-type {\n",
       "        vertical-align: middle;\n",
       "    }\n",
       "\n",
       "    .dataframe tbody tr th {\n",
       "        vertical-align: top;\n",
       "    }\n",
       "\n",
       "    .dataframe thead th {\n",
       "        text-align: right;\n",
       "    }\n",
       "</style>\n",
       "<table border=\"1\" class=\"dataframe\">\n",
       "  <thead>\n",
       "    <tr style=\"text-align: right;\">\n",
       "      <th></th>\n",
       "      <th>amount</th>\n",
       "    </tr>\n",
       "    <tr>\n",
       "      <th></th>\n",
       "      <th></th>\n",
       "    </tr>\n",
       "  </thead>\n",
       "  <tbody>\n",
       "    <tr>\n",
       "      <th>crypto</th>\n",
       "      <td>56233.3</td>\n",
       "    </tr>\n",
       "    <tr>\n",
       "      <th>shares</th>\n",
       "      <td>40614.5</td>\n",
       "    </tr>\n",
       "  </tbody>\n",
       "</table>\n",
       "</div>"
      ],
      "text/plain": [
       "         amount\n",
       "               \n",
       "crypto  56233.3\n",
       "shares  40614.5"
      ]
     },
     "metadata": {},
     "output_type": "display_data"
    }
   ],
   "source": [
    "#Set monthly household income\n",
    "\n",
    "monthly_income = 12000\n",
    "\n",
    "#Consolidate financial assets data\n",
    "\n",
    "shares_in_dollars = [[\"crypto\",my_btc_value + my_eth_value], [\"shares\",my_agg_value + my_spy_value]]\n",
    "                 \n",
    "\n",
    "#Create savings DataFrame\n",
    "df_savings = pd.DataFrame(shares_in_dollars, columns=[\"\",'amount'])\n",
    "df_savings = df_savings.set_index(\"\")\n",
    "#Display savings DataFrame\n",
    "display(df_savings)"
   ]
  },
  {
   "cell_type": "code",
   "execution_count": 12,
   "metadata": {},
   "outputs": [
    {
     "data": {
      "text/plain": [
       "<Axes: ylabel='amount'>"
      ]
     },
     "execution_count": 12,
     "metadata": {},
     "output_type": "execute_result"
    },
    {
     "data": {
      "image/png": "[encoded data removed]",
      "text/plain": [
       "<Figure size 640x480 with 1 Axes>"
      ]
     },
     "metadata": {},
     "output_type": "display_data"
    }
   ],
   "source": [
    "# Plot savings pie chart\n",
    "# YOUR CODE HERE!\n",
    "df_savings.plot.pie(y = \"amount\")"
   ]
  },
  {
   "cell_type": "code",
   "execution_count": 13,
   "metadata": {},
   "outputs": [
    {
     "data": {
      "text/plain": [
       "'Congratulations! You have enough money in this fund'"
      ]
     },
     "metadata": {},
     "output_type": "display_data"
    }
   ],
   "source": [
    "# Set ideal emergency fund\n",
    "emergency_fund = monthly_income * 3\n",
    "# Calculate total amount of savings\n",
    "total_savings = df_savings.iloc[0].at[\"amount\"] + df_savings.iloc[1].at[\"amount\"]\n",
    "\n",
    "\n",
    "\n",
    "# Validate saving health\n",
    "if total_savings > emergency_fund:\n",
    "    display(\"Congratulations! You have enough money in this fund\")\n",
    "elif total_savings == emergency_fund:\n",
    "    display(\"Congratulations on reaching this financial goal\")\n",
    "elif total_savings < emergency_fund:\n",
    "    display(f\"you are {emergency_fund} - {total_savings} away from reach the goal\")"
   ]
  },
  {
   "cell_type": "markdown",
   "metadata": {},
   "source": [
    "## Part 2 - Retirement Planning\n",
    "\n",
    "### Monte Carlo Simulation"
   ]
  },
  {
   "cell_type": "code",
   "execution_count": 14,
   "metadata": {},
   "outputs": [],
   "source": [
    "# Set start and end dates of five years back from today.\n",
    "# Sample results may vary from the solution based on the time frame chosen\n",
    "start_date = pd.Timestamp('2016-05-01', tz='America/New_York').isoformat()\n",
    "end_date = pd.Timestamp('2021-05-01', tz='America/New_York').isoformat()"
   ]
  },
  {
   "cell_type": "code",
   "execution_count": 32,
   "metadata": {},
   "outputs": [
    {
     "data": {
      "text/html": [
       "<div>\n",
       "<style scoped>\n",
       "    .dataframe tbody tr th:only-of-type {\n",
       "        vertical-align: middle;\n",
       "    }\n",
       "\n",
       "    .dataframe tbody tr th {\n",
       "        vertical-align: top;\n",
       "    }\n",
       "\n",
       "    .dataframe thead tr th {\n",
       "        text-align: left;\n",
       "    }\n",
       "\n",
       "    .dataframe thead tr:last-of-type th {\n",
       "        text-align: right;\n",
       "    }\n",
       "</style>\n",
       "<table border=\"1\" class=\"dataframe\">\n",
       "  <thead>\n",
       "    <tr>\n",
       "      <th></th>\n",
       "      <th colspan=\"7\" halign=\"left\">SPY</th>\n",
       "      <th colspan=\"7\" halign=\"left\">AGG</th>\n",
       "    </tr>\n",
       "    <tr>\n",
       "      <th></th>\n",
       "      <th>close</th>\n",
       "      <th>high</th>\n",
       "      <th>low</th>\n",
       "      <th>trade_count</th>\n",
       "      <th>open</th>\n",
       "      <th>volume</th>\n",
       "      <th>vwap</th>\n",
       "      <th>close</th>\n",
       "      <th>high</th>\n",
       "      <th>low</th>\n",
       "      <th>trade_count</th>\n",
       "      <th>open</th>\n",
       "      <th>volume</th>\n",
       "      <th>vwap</th>\n",
       "    </tr>\n",
       "    <tr>\n",
       "      <th>timestamp</th>\n",
       "      <th></th>\n",
       "      <th></th>\n",
       "      <th></th>\n",
       "      <th></th>\n",
       "      <th></th>\n",
       "      <th></th>\n",
       "      <th></th>\n",
       "      <th></th>\n",
       "      <th></th>\n",
       "      <th></th>\n",
       "      <th></th>\n",
       "      <th></th>\n",
       "      <th></th>\n",
       "      <th></th>\n",
       "    </tr>\n",
       "  </thead>\n",
       "  <tbody>\n",
       "    <tr>\n",
       "      <th>2020-08-07 04:00:00+00:00</th>\n",
       "      <td>334.57</td>\n",
       "      <td>334.88</td>\n",
       "      <td>332.3</td>\n",
       "      <td>349308</td>\n",
       "      <td>333.28</td>\n",
       "      <td>57978084</td>\n",
       "      <td>333.809718</td>\n",
       "      <td>119.43</td>\n",
       "      <td>119.73</td>\n",
       "      <td>119.395</td>\n",
       "      <td>15247</td>\n",
       "      <td>119.66</td>\n",
       "      <td>6229081</td>\n",
       "      <td>119.470433</td>\n",
       "    </tr>\n",
       "  </tbody>\n",
       "</table>\n",
       "</div>"
      ],
      "text/plain": [
       "                              SPY                                     \\\n",
       "                            close    high    low trade_count    open   \n",
       "timestamp                                                              \n",
       "2020-08-07 04:00:00+00:00  334.57  334.88  332.3      349308  333.28   \n",
       "\n",
       "                                                    AGG                   \\\n",
       "                             volume        vwap   close    high      low   \n",
       "timestamp                                                                  \n",
       "2020-08-07 04:00:00+00:00  57978084  333.809718  119.43  119.73  119.395   \n",
       "\n",
       "                                                                    \n",
       "                          trade_count    open   volume        vwap  \n",
       "timestamp                                                           \n",
       "2020-08-07 04:00:00+00:00       15247  119.66  6229081  119.470433  "
      ]
     },
     "execution_count": 32,
     "metadata": {},
     "output_type": "execute_result"
    }
   ],
   "source": [
    "# Get 5 years' worth of historical data for SPY and AGG\n",
    "df_stock_data = api.get_bars(\n",
    "    tickers,\n",
    "    timeframe,\n",
    "    start_date,\n",
    "    end_date\n",
    "    \n",
    ").df\n",
    "\n",
    "\n",
    "# Reorganize the DataFrame\n",
    "# Separate ticker data\n",
    "spy_data = df_stock_data[df_stock_data[\"symbol\"] == \"SPY\"].drop(\"symbol\", axis = 1)\n",
    "agg_data = df_stock_data[df_stock_data[\"symbol\"] == \"AGG\"].drop(\"symbol\", axis = 1)\n",
    "\n",
    "\n",
    "# Concatenate the ticker DataFrames\n",
    "df_stock_data = pd.concat([spy_data, agg_data], axis=1, keys = [\"SPY\",\"AGG\"])\n",
    "\n",
    "\n",
    "# Display sample data\n",
    "df_stock_data"
   ]
  },
  {
   "cell_type": "code",
   "execution_count": 16,
   "metadata": {},
   "outputs": [],
   "source": [
    "# Configuring a Monte Carlo simulation to forecast 30 years cumulative returns\n",
    " \n",
    "MC_stock_data = MCSimulation(\n",
    "    portfolio_data = df_stock_data,\n",
    "    weights = [.40,.60],\n",
    "    num_simulation = 500,\n",
    "    num_trading_days = 252 * 30\n",
    ")"
   ]
  },
  {
   "cell_type": "code",
   "execution_count": 17,
   "metadata": {},
   "outputs": [
    {
     "data": {
      "text/html": [
       "<div>\n",
       "<style scoped>\n",
       "    .dataframe tbody tr th:only-of-type {\n",
       "        vertical-align: middle;\n",
       "    }\n",
       "\n",
       "    .dataframe tbody tr th {\n",
       "        vertical-align: top;\n",
       "    }\n",
       "\n",
       "    .dataframe thead tr th {\n",
       "        text-align: left;\n",
       "    }\n",
       "\n",
       "    .dataframe thead tr:last-of-type th {\n",
       "        text-align: right;\n",
       "    }\n",
       "</style>\n",
       "<table border=\"1\" class=\"dataframe\">\n",
       "  <thead>\n",
       "    <tr>\n",
       "      <th></th>\n",
       "      <th colspan=\"8\" halign=\"left\">SPY</th>\n",
       "      <th colspan=\"8\" halign=\"left\">AGG</th>\n",
       "    </tr>\n",
       "    <tr>\n",
       "      <th></th>\n",
       "      <th>close</th>\n",
       "      <th>high</th>\n",
       "      <th>low</th>\n",
       "      <th>trade_count</th>\n",
       "      <th>open</th>\n",
       "      <th>volume</th>\n",
       "      <th>vwap</th>\n",
       "      <th>daily_return</th>\n",
       "      <th>close</th>\n",
       "      <th>high</th>\n",
       "      <th>low</th>\n",
       "      <th>trade_count</th>\n",
       "      <th>open</th>\n",
       "      <th>volume</th>\n",
       "      <th>vwap</th>\n",
       "      <th>daily_return</th>\n",
       "    </tr>\n",
       "    <tr>\n",
       "      <th>timestamp</th>\n",
       "      <th></th>\n",
       "      <th></th>\n",
       "      <th></th>\n",
       "      <th></th>\n",
       "      <th></th>\n",
       "      <th></th>\n",
       "      <th></th>\n",
       "      <th></th>\n",
       "      <th></th>\n",
       "      <th></th>\n",
       "      <th></th>\n",
       "      <th></th>\n",
       "      <th></th>\n",
       "      <th></th>\n",
       "      <th></th>\n",
       "      <th></th>\n",
       "    </tr>\n",
       "  </thead>\n",
       "  <tbody>\n",
       "    <tr>\n",
       "      <th>2016-05-02 04:00:00+00:00</th>\n",
       "      <td>207.9700</td>\n",
       "      <td>208.18</td>\n",
       "      <td>206.41</td>\n",
       "      <td>263586</td>\n",
       "      <td>206.92</td>\n",
       "      <td>64747229</td>\n",
       "      <td>207.305695</td>\n",
       "      <td>NaN</td>\n",
       "      <td>110.605</td>\n",
       "      <td>110.7400</td>\n",
       "      <td>110.5200</td>\n",
       "      <td>15122</td>\n",
       "      <td>110.74</td>\n",
       "      <td>3608552</td>\n",
       "      <td>110.626939</td>\n",
       "      <td>NaN</td>\n",
       "    </tr>\n",
       "    <tr>\n",
       "      <th>2016-05-03 04:00:00+00:00</th>\n",
       "      <td>206.1592</td>\n",
       "      <td>206.80</td>\n",
       "      <td>205.28</td>\n",
       "      <td>377523</td>\n",
       "      <td>206.52</td>\n",
       "      <td>108050343</td>\n",
       "      <td>206.309997</td>\n",
       "      <td>-0.008707</td>\n",
       "      <td>110.810</td>\n",
       "      <td>110.9450</td>\n",
       "      <td>110.7500</td>\n",
       "      <td>15663</td>\n",
       "      <td>110.89</td>\n",
       "      <td>3128774</td>\n",
       "      <td>110.864495</td>\n",
       "      <td>0.001853</td>\n",
       "    </tr>\n",
       "    <tr>\n",
       "      <th>2016-05-04 04:00:00+00:00</th>\n",
       "      <td>205.0100</td>\n",
       "      <td>205.85</td>\n",
       "      <td>204.42</td>\n",
       "      <td>345266</td>\n",
       "      <td>204.99</td>\n",
       "      <td>94995641</td>\n",
       "      <td>205.086315</td>\n",
       "      <td>-0.005574</td>\n",
       "      <td>110.860</td>\n",
       "      <td>110.9315</td>\n",
       "      <td>110.7595</td>\n",
       "      <td>13984</td>\n",
       "      <td>110.91</td>\n",
       "      <td>3096337</td>\n",
       "      <td>110.877983</td>\n",
       "      <td>0.000451</td>\n",
       "    </tr>\n",
       "    <tr>\n",
       "      <th>2016-05-05 04:00:00+00:00</th>\n",
       "      <td>204.9700</td>\n",
       "      <td>205.98</td>\n",
       "      <td>204.47</td>\n",
       "      <td>280626</td>\n",
       "      <td>205.56</td>\n",
       "      <td>68425268</td>\n",
       "      <td>205.140615</td>\n",
       "      <td>-0.000195</td>\n",
       "      <td>111.140</td>\n",
       "      <td>111.1600</td>\n",
       "      <td>110.8010</td>\n",
       "      <td>15708</td>\n",
       "      <td>110.92</td>\n",
       "      <td>3052967</td>\n",
       "      <td>111.030002</td>\n",
       "      <td>0.002526</td>\n",
       "    </tr>\n",
       "    <tr>\n",
       "      <th>2016-05-06 04:00:00+00:00</th>\n",
       "      <td>205.7200</td>\n",
       "      <td>205.77</td>\n",
       "      <td>203.88</td>\n",
       "      <td>340162</td>\n",
       "      <td>204.06</td>\n",
       "      <td>90999800</td>\n",
       "      <td>204.943796</td>\n",
       "      <td>0.003659</td>\n",
       "      <td>110.970</td>\n",
       "      <td>111.1200</td>\n",
       "      <td>110.9700</td>\n",
       "      <td>12697</td>\n",
       "      <td>111.12</td>\n",
       "      <td>2922700</td>\n",
       "      <td>111.027631</td>\n",
       "      <td>-0.001530</td>\n",
       "    </tr>\n",
       "  </tbody>\n",
       "</table>\n",
       "</div>"
      ],
      "text/plain": [
       "                                SPY                                      \\\n",
       "                              close    high     low trade_count    open   \n",
       "timestamp                                                                 \n",
       "2016-05-02 04:00:00+00:00  207.9700  208.18  206.41      263586  206.92   \n",
       "2016-05-03 04:00:00+00:00  206.1592  206.80  205.28      377523  206.52   \n",
       "2016-05-04 04:00:00+00:00  205.0100  205.85  204.42      345266  204.99   \n",
       "2016-05-05 04:00:00+00:00  204.9700  205.98  204.47      280626  205.56   \n",
       "2016-05-06 04:00:00+00:00  205.7200  205.77  203.88      340162  204.06   \n",
       "\n",
       "                                                                   AGG  \\\n",
       "                              volume        vwap daily_return    close   \n",
       "timestamp                                                                \n",
       "2016-05-02 04:00:00+00:00   64747229  207.305695          NaN  110.605   \n",
       "2016-05-03 04:00:00+00:00  108050343  206.309997    -0.008707  110.810   \n",
       "2016-05-04 04:00:00+00:00   94995641  205.086315    -0.005574  110.860   \n",
       "2016-05-05 04:00:00+00:00   68425268  205.140615    -0.000195  111.140   \n",
       "2016-05-06 04:00:00+00:00   90999800  204.943796     0.003659  110.970   \n",
       "\n",
       "                                                                            \\\n",
       "                               high       low trade_count    open   volume   \n",
       "timestamp                                                                    \n",
       "2016-05-02 04:00:00+00:00  110.7400  110.5200       15122  110.74  3608552   \n",
       "2016-05-03 04:00:00+00:00  110.9450  110.7500       15663  110.89  3128774   \n",
       "2016-05-04 04:00:00+00:00  110.9315  110.7595       13984  110.91  3096337   \n",
       "2016-05-05 04:00:00+00:00  111.1600  110.8010       15708  110.92  3052967   \n",
       "2016-05-06 04:00:00+00:00  111.1200  110.9700       12697  111.12  2922700   \n",
       "\n",
       "                                                    \n",
       "                                 vwap daily_return  \n",
       "timestamp                                           \n",
       "2016-05-02 04:00:00+00:00  110.626939          NaN  \n",
       "2016-05-03 04:00:00+00:00  110.864495     0.001853  \n",
       "2016-05-04 04:00:00+00:00  110.877983     0.000451  \n",
       "2016-05-05 04:00:00+00:00  111.030002     0.002526  \n",
       "2016-05-06 04:00:00+00:00  111.027631    -0.001530  "
      ]
     },
     "execution_count": 17,
     "metadata": {},
     "output_type": "execute_result"
    }
   ],
   "source": [
    "# Printing the simulation input data\n",
    "\n",
    "MC_stock_data.portfolio_data.head()"
   ]
  },
  {
   "cell_type": "code",
   "execution_count": 18,
   "metadata": {},
   "outputs": [
    {
     "name": "stdout",
     "output_type": "stream",
     "text": [
      "Running Monte Carlo simulation number 0.\n",
      "Running Monte Carlo simulation number 10.\n",
      "Running Monte Carlo simulation number 20.\n",
      "Running Monte Carlo simulation number 30.\n",
      "Running Monte Carlo simulation number 40.\n",
      "Running Monte Carlo simulation number 50.\n",
      "Running Monte Carlo simulation number 60.\n",
      "Running Monte Carlo simulation number 70.\n",
      "Running Monte Carlo simulation number 80.\n",
      "Running Monte Carlo simulation number 90.\n",
      "Running Monte Carlo simulation number 100.\n",
      "Running Monte Carlo simulation number 110.\n",
      "Running Monte Carlo simulation number 120.\n",
      "Running Monte Carlo simulation number 130.\n",
      "Running Monte Carlo simulation number 140.\n",
      "Running Monte Carlo simulation number 150.\n",
      "Running Monte Carlo simulation number 160.\n",
      "Running Monte Carlo simulation number 170.\n",
      "Running Monte Carlo simulation number 180.\n",
      "Running Monte Carlo simulation number 190.\n",
      "Running Monte Carlo simulation number 200.\n",
      "Running Monte Carlo simulation number 210.\n",
      "Running Monte Carlo simulation number 220.\n",
      "Running Monte Carlo simulation number 230.\n",
      "Running Monte Carlo simulation number 240.\n",
      "Running Monte Carlo simulation number 250.\n",
      "Running Monte Carlo simulation number 260.\n",
      "Running Monte Carlo simulation number 270.\n",
      "Running Monte Carlo simulation number 280.\n",
      "Running Monte Carlo simulation number 290.\n",
      "Running Monte Carlo simulation number 300.\n",
      "Running Monte Carlo simulation number 310.\n",
      "Running Monte Carlo simulation number 320.\n",
      "Running Monte Carlo simulation number 330.\n",
      "Running Monte Carlo simulation number 340.\n",
      "Running Monte Carlo simulation number 350.\n",
      "Running Monte Carlo simulation number 360.\n",
      "Running Monte Carlo simulation number 370.\n",
      "Running Monte Carlo simulation number 380.\n",
      "Running Monte Carlo simulation number 390.\n",
      "Running Monte Carlo simulation number 400.\n",
      "Running Monte Carlo simulation number 410.\n",
      "Running Monte Carlo simulation number 420.\n",
      "Running Monte Carlo simulation number 430.\n",
      "Running Monte Carlo simulation number 440.\n",
      "Running Monte Carlo simulation number 450.\n",
      "Running Monte Carlo simulation number 460.\n",
      "Running Monte Carlo simulation number 470.\n",
      "Running Monte Carlo simulation number 480.\n",
      "Running Monte Carlo simulation number 490.\n"
     ]
    },
    {
     "data": {
      "text/html": [
       "<div>\n",
       "<style scoped>\n",
       "    .dataframe tbody tr th:only-of-type {\n",
       "        vertical-align: middle;\n",
       "    }\n",
       "\n",
       "    .dataframe tbody tr th {\n",
       "        vertical-align: top;\n",
       "    }\n",
       "\n",
       "    .dataframe thead th {\n",
       "        text-align: right;\n",
       "    }\n",
       "</style>\n",
       "<table border=\"1\" class=\"dataframe\">\n",
       "  <thead>\n",
       "    <tr style=\"text-align: right;\">\n",
       "      <th></th>\n",
       "      <th>0</th>\n",
       "      <th>1</th>\n",
       "      <th>2</th>\n",
       "      <th>3</th>\n",
       "      <th>4</th>\n",
       "      <th>5</th>\n",
       "      <th>6</th>\n",
       "      <th>7</th>\n",
       "      <th>8</th>\n",
       "      <th>9</th>\n",
       "      <th>...</th>\n",
       "      <th>490</th>\n",
       "      <th>491</th>\n",
       "      <th>492</th>\n",
       "      <th>493</th>\n",
       "      <th>494</th>\n",
       "      <th>495</th>\n",
       "      <th>496</th>\n",
       "      <th>497</th>\n",
       "      <th>498</th>\n",
       "      <th>499</th>\n",
       "    </tr>\n",
       "  </thead>\n",
       "  <tbody>\n",
       "    <tr>\n",
       "      <th>0</th>\n",
       "      <td>1.000000</td>\n",
       "      <td>1.000000</td>\n",
       "      <td>1.000000</td>\n",
       "      <td>1.000000</td>\n",
       "      <td>1.000000</td>\n",
       "      <td>1.000000</td>\n",
       "      <td>1.000000</td>\n",
       "      <td>1.000000</td>\n",
       "      <td>1.000000</td>\n",
       "      <td>1.000000</td>\n",
       "      <td>...</td>\n",
       "      <td>1.000000</td>\n",
       "      <td>1.000000</td>\n",
       "      <td>1.000000</td>\n",
       "      <td>1.000000</td>\n",
       "      <td>1.000000</td>\n",
       "      <td>1.000000</td>\n",
       "      <td>1.000000</td>\n",
       "      <td>1.000000</td>\n",
       "      <td>1.000000</td>\n",
       "      <td>1.000000</td>\n",
       "    </tr>\n",
       "    <tr>\n",
       "      <th>1</th>\n",
       "      <td>0.993193</td>\n",
       "      <td>0.997182</td>\n",
       "      <td>1.000606</td>\n",
       "      <td>1.009667</td>\n",
       "      <td>0.998464</td>\n",
       "      <td>1.004714</td>\n",
       "      <td>0.991374</td>\n",
       "      <td>1.001057</td>\n",
       "      <td>1.000651</td>\n",
       "      <td>0.996843</td>\n",
       "      <td>...</td>\n",
       "      <td>0.997941</td>\n",
       "      <td>1.004266</td>\n",
       "      <td>0.998674</td>\n",
       "      <td>1.001503</td>\n",
       "      <td>1.002929</td>\n",
       "      <td>1.007761</td>\n",
       "      <td>1.001425</td>\n",
       "      <td>0.999528</td>\n",
       "      <td>1.003029</td>\n",
       "      <td>1.001837</td>\n",
       "    </tr>\n",
       "    <tr>\n",
       "      <th>2</th>\n",
       "      <td>0.997128</td>\n",
       "      <td>0.998329</td>\n",
       "      <td>0.999730</td>\n",
       "      <td>1.013857</td>\n",
       "      <td>0.998678</td>\n",
       "      <td>1.008609</td>\n",
       "      <td>0.995240</td>\n",
       "      <td>1.007416</td>\n",
       "      <td>1.002503</td>\n",
       "      <td>1.002080</td>\n",
       "      <td>...</td>\n",
       "      <td>0.994816</td>\n",
       "      <td>1.004672</td>\n",
       "      <td>0.996974</td>\n",
       "      <td>1.001600</td>\n",
       "      <td>1.004536</td>\n",
       "      <td>1.006792</td>\n",
       "      <td>1.006270</td>\n",
       "      <td>0.999247</td>\n",
       "      <td>1.004879</td>\n",
       "      <td>1.005488</td>\n",
       "    </tr>\n",
       "    <tr>\n",
       "      <th>3</th>\n",
       "      <td>1.001377</td>\n",
       "      <td>0.991633</td>\n",
       "      <td>0.997690</td>\n",
       "      <td>1.024698</td>\n",
       "      <td>0.997859</td>\n",
       "      <td>0.999524</td>\n",
       "      <td>0.991471</td>\n",
       "      <td>1.009169</td>\n",
       "      <td>1.004594</td>\n",
       "      <td>1.012791</td>\n",
       "      <td>...</td>\n",
       "      <td>0.992678</td>\n",
       "      <td>1.014789</td>\n",
       "      <td>1.006737</td>\n",
       "      <td>1.002288</td>\n",
       "      <td>1.010688</td>\n",
       "      <td>1.009903</td>\n",
       "      <td>1.014336</td>\n",
       "      <td>0.996504</td>\n",
       "      <td>1.000836</td>\n",
       "      <td>1.004319</td>\n",
       "    </tr>\n",
       "    <tr>\n",
       "      <th>4</th>\n",
       "      <td>1.004378</td>\n",
       "      <td>0.995746</td>\n",
       "      <td>1.005100</td>\n",
       "      <td>1.020639</td>\n",
       "      <td>1.001897</td>\n",
       "      <td>1.005629</td>\n",
       "      <td>0.991371</td>\n",
       "      <td>1.016599</td>\n",
       "      <td>1.005853</td>\n",
       "      <td>1.013448</td>\n",
       "      <td>...</td>\n",
       "      <td>1.001845</td>\n",
       "      <td>1.016070</td>\n",
       "      <td>1.002948</td>\n",
       "      <td>0.998788</td>\n",
       "      <td>1.008439</td>\n",
       "      <td>1.014752</td>\n",
       "      <td>1.018682</td>\n",
       "      <td>0.988572</td>\n",
       "      <td>1.004496</td>\n",
       "      <td>1.010088</td>\n",
       "    </tr>\n",
       "    <tr>\n",
       "      <th>...</th>\n",
       "      <td>...</td>\n",
       "      <td>...</td>\n",
       "      <td>...</td>\n",
       "      <td>...</td>\n",
       "      <td>...</td>\n",
       "      <td>...</td>\n",
       "      <td>...</td>\n",
       "      <td>...</td>\n",
       "      <td>...</td>\n",
       "      <td>...</td>\n",
       "      <td>...</td>\n",
       "      <td>...</td>\n",
       "      <td>...</td>\n",
       "      <td>...</td>\n",
       "      <td>...</td>\n",
       "      <td>...</td>\n",
       "      <td>...</td>\n",
       "      <td>...</td>\n",
       "      <td>...</td>\n",
       "      <td>...</td>\n",
       "      <td>...</td>\n",
       "    </tr>\n",
       "    <tr>\n",
       "      <th>7556</th>\n",
       "      <td>6.580594</td>\n",
       "      <td>7.393381</td>\n",
       "      <td>4.878021</td>\n",
       "      <td>5.492720</td>\n",
       "      <td>8.399595</td>\n",
       "      <td>5.735123</td>\n",
       "      <td>3.065501</td>\n",
       "      <td>11.267640</td>\n",
       "      <td>7.787473</td>\n",
       "      <td>14.804148</td>\n",
       "      <td>...</td>\n",
       "      <td>6.942948</td>\n",
       "      <td>4.770031</td>\n",
       "      <td>11.550635</td>\n",
       "      <td>8.239692</td>\n",
       "      <td>7.328820</td>\n",
       "      <td>5.782091</td>\n",
       "      <td>14.350022</td>\n",
       "      <td>6.193321</td>\n",
       "      <td>5.970016</td>\n",
       "      <td>5.062988</td>\n",
       "    </tr>\n",
       "    <tr>\n",
       "      <th>7557</th>\n",
       "      <td>6.564883</td>\n",
       "      <td>7.406701</td>\n",
       "      <td>4.893631</td>\n",
       "      <td>5.501129</td>\n",
       "      <td>8.413215</td>\n",
       "      <td>5.741912</td>\n",
       "      <td>3.051215</td>\n",
       "      <td>11.368423</td>\n",
       "      <td>7.777455</td>\n",
       "      <td>14.967884</td>\n",
       "      <td>...</td>\n",
       "      <td>6.919775</td>\n",
       "      <td>4.781941</td>\n",
       "      <td>11.547422</td>\n",
       "      <td>8.271862</td>\n",
       "      <td>7.277580</td>\n",
       "      <td>5.732295</td>\n",
       "      <td>14.207190</td>\n",
       "      <td>6.221312</td>\n",
       "      <td>5.900205</td>\n",
       "      <td>5.091690</td>\n",
       "    </tr>\n",
       "    <tr>\n",
       "      <th>7558</th>\n",
       "      <td>6.574980</td>\n",
       "      <td>7.430243</td>\n",
       "      <td>4.870055</td>\n",
       "      <td>5.557051</td>\n",
       "      <td>8.481367</td>\n",
       "      <td>5.757087</td>\n",
       "      <td>3.058730</td>\n",
       "      <td>11.340803</td>\n",
       "      <td>7.838073</td>\n",
       "      <td>14.877497</td>\n",
       "      <td>...</td>\n",
       "      <td>6.926094</td>\n",
       "      <td>4.814228</td>\n",
       "      <td>11.657393</td>\n",
       "      <td>8.254576</td>\n",
       "      <td>7.255976</td>\n",
       "      <td>5.686155</td>\n",
       "      <td>14.114694</td>\n",
       "      <td>6.170073</td>\n",
       "      <td>5.934165</td>\n",
       "      <td>5.069620</td>\n",
       "    </tr>\n",
       "    <tr>\n",
       "      <th>7559</th>\n",
       "      <td>6.560124</td>\n",
       "      <td>7.431478</td>\n",
       "      <td>4.914856</td>\n",
       "      <td>5.590400</td>\n",
       "      <td>8.472175</td>\n",
       "      <td>5.747870</td>\n",
       "      <td>3.071358</td>\n",
       "      <td>11.400628</td>\n",
       "      <td>7.843410</td>\n",
       "      <td>14.899484</td>\n",
       "      <td>...</td>\n",
       "      <td>6.920363</td>\n",
       "      <td>4.863900</td>\n",
       "      <td>11.731838</td>\n",
       "      <td>8.295235</td>\n",
       "      <td>7.244839</td>\n",
       "      <td>5.683130</td>\n",
       "      <td>14.092843</td>\n",
       "      <td>6.158777</td>\n",
       "      <td>5.903094</td>\n",
       "      <td>5.077953</td>\n",
       "    </tr>\n",
       "    <tr>\n",
       "      <th>7560</th>\n",
       "      <td>6.514229</td>\n",
       "      <td>7.453199</td>\n",
       "      <td>4.948334</td>\n",
       "      <td>5.580019</td>\n",
       "      <td>8.426320</td>\n",
       "      <td>5.722290</td>\n",
       "      <td>3.081081</td>\n",
       "      <td>11.433507</td>\n",
       "      <td>7.905987</td>\n",
       "      <td>14.961719</td>\n",
       "      <td>...</td>\n",
       "      <td>6.921154</td>\n",
       "      <td>4.858136</td>\n",
       "      <td>11.697988</td>\n",
       "      <td>8.269353</td>\n",
       "      <td>7.185173</td>\n",
       "      <td>5.686435</td>\n",
       "      <td>14.033657</td>\n",
       "      <td>6.157464</td>\n",
       "      <td>5.873412</td>\n",
       "      <td>5.044254</td>\n",
       "    </tr>\n",
       "  </tbody>\n",
       "</table>\n",
       "<p>7561 rows × 500 columns</p>\n",
       "</div>"
      ],
      "text/plain": [
       "           0         1         2         3         4         5         6    \\\n",
       "0     1.000000  1.000000  1.000000  1.000000  1.000000  1.000000  1.000000   \n",
       "1     0.993193  0.997182  1.000606  1.009667  0.998464  1.004714  0.991374   \n",
       "2     0.997128  0.998329  0.999730  1.013857  0.998678  1.008609  0.995240   \n",
       "3     1.001377  0.991633  0.997690  1.024698  0.997859  0.999524  0.991471   \n",
       "4     1.004378  0.995746  1.005100  1.020639  1.001897  1.005629  0.991371   \n",
       "...        ...       ...       ...       ...       ...       ...       ...   \n",
       "7556  6.580594  7.393381  4.878021  5.492720  8.399595  5.735123  3.065501   \n",
       "7557  6.564883  7.406701  4.893631  5.501129  8.413215  5.741912  3.051215   \n",
       "7558  6.574980  7.430243  4.870055  5.557051  8.481367  5.757087  3.058730   \n",
       "7559  6.560124  7.431478  4.914856  5.590400  8.472175  5.747870  3.071358   \n",
       "7560  6.514229  7.453199  4.948334  5.580019  8.426320  5.722290  3.081081   \n",
       "\n",
       "            7         8          9    ...       490       491        492  \\\n",
       "0      1.000000  1.000000   1.000000  ...  1.000000  1.000000   1.000000   \n",
       "1      1.001057  1.000651   0.996843  ...  0.997941  1.004266   0.998674   \n",
       "2      1.007416  1.002503   1.002080  ...  0.994816  1.004672   0.996974   \n",
       "3      1.009169  1.004594   1.012791  ...  0.992678  1.014789   1.006737   \n",
       "4      1.016599  1.005853   1.013448  ...  1.001845  1.016070   1.002948   \n",
       "...         ...       ...        ...  ...       ...       ...        ...   \n",
       "7556  11.267640  7.787473  14.804148  ...  6.942948  4.770031  11.550635   \n",
       "7557  11.368423  7.777455  14.967884  ...  6.919775  4.781941  11.547422   \n",
       "7558  11.340803  7.838073  14.877497  ...  6.926094  4.814228  11.657393   \n",
       "7559  11.400628  7.843410  14.899484  ...  6.920363  4.863900  11.731838   \n",
       "7560  11.433507  7.905987  14.961719  ...  6.921154  4.858136  11.697988   \n",
       "\n",
       "           493       494       495        496       497       498       499  \n",
       "0     1.000000  1.000000  1.000000   1.000000  1.000000  1.000000  1.000000  \n",
       "1     1.001503  1.002929  1.007761   1.001425  0.999528  1.003029  1.001837  \n",
       "2     1.001600  1.004536  1.006792   1.006270  0.999247  1.004879  1.005488  \n",
       "3     1.002288  1.010688  1.009903   1.014336  0.996504  1.000836  1.004319  \n",
       "4     0.998788  1.008439  1.014752   1.018682  0.988572  1.004496  1.010088  \n",
       "...        ...       ...       ...        ...       ...       ...       ...  \n",
       "7556  8.239692  7.328820  5.782091  14.350022  6.193321  5.970016  5.062988  \n",
       "7557  8.271862  7.277580  5.732295  14.207190  6.221312  5.900205  5.091690  \n",
       "7558  8.254576  7.255976  5.686155  14.114694  6.170073  5.934165  5.069620  \n",
       "7559  8.295235  7.244839  5.683130  14.092843  6.158777  5.903094  5.077953  \n",
       "7560  8.269353  7.185173  5.686435  14.033657  6.157464  5.873412  5.044254  \n",
       "\n",
       "[7561 rows x 500 columns]"
      ]
     },
     "execution_count": 18,
     "metadata": {},
     "output_type": "execute_result"
    }
   ],
   "source": [
    "# Running a Monte Carlo simulation to forecast 30 years cumulative returns\n",
    "MC_stock_data.calc_cumulative_return() \n"
   ]
  },
  {
   "cell_type": "code",
   "execution_count": 23,
   "metadata": {},
   "outputs": [
    {
     "data": {
      "image/png": "[encoded data removed]",
      "text/plain": [
       "<Figure size 640x480 with 1 Axes>"
      ]
     },
     "metadata": {},
     "output_type": "display_data"
    }
   ],
   "source": [
    "# Plot simulation outcomes\n",
    "line_plot = MC_stock_data.plot_simulation()"
   ]
  },
  {
   "cell_type": "code",
   "execution_count": 20,
   "metadata": {},
   "outputs": [
    {
     "data": {
      "text/plain": [
       "<Axes: title={'center': 'Distribution of Final Cumuluative Returns Across All 500 Simulations'}, ylabel='Frequency'>"
      ]
     },
     "execution_count": 20,
     "metadata": {},
     "output_type": "execute_result"
    },
    {
     "data": {
      "image/png": "[encoded data removed]",
      "text/plain": [
       "<Figure size 640x480 with 1 Axes>"
      ]
     },
     "metadata": {},
     "output_type": "display_data"
    }
   ],
   "source": [
    "# Plot probability distribution and confidence intervals\n",
    "MC_stock_data.plot_distribution()"
   ]
  },
  {
   "cell_type": "markdown",
   "metadata": {},
   "source": [
    "### Retirement Analysis"
   ]
  },
  {
   "cell_type": "code",
   "execution_count": 21,
   "metadata": {},
   "outputs": [
    {
     "data": {
      "text/plain": [
       "count           500.000000\n",
       "mean              7.614537\n",
       "std               3.398024\n",
       "min               2.022658\n",
       "25%               5.246762\n",
       "50%               6.920529\n",
       "75%               9.256821\n",
       "max              27.410211\n",
       "95% CI Lower      3.145202\n",
       "95% CI Upper     15.690254\n",
       "Name: 7560, dtype: float64"
      ]
     },
     "execution_count": 21,
     "metadata": {},
     "output_type": "execute_result"
    }
   ],
   "source": [
    "# Fetch summary statistics from the Monte Carlo simulation results\n",
    "\n",
    "tbl = MC_stock_data.summarize_cumulative_return()\n",
    "\n",
    "# Print summary statistics\n",
    "tbl"
   ]
  },
  {
   "cell_type": "markdown",
   "metadata": {},
   "source": [
    "### Calculate the expected portfolio return at the `95%` lower and upper confidence intervals based on a `$20,000` initial investment."
   ]
  },
  {
   "cell_type": "code",
   "execution_count": 29,
   "metadata": {},
   "outputs": [
    {
     "name": "stdout",
     "output_type": "stream",
     "text": [
      "There is a 95% chance that an initial investment of $20000 in the portfolio over the next 30 years will end within in the range of $62904.03 and $313805.07\n"
     ]
    }
   ],
   "source": [
    "# Set initial investment\n",
    "initial_investment = 20000\n",
    "\n",
    "# Use the lower and upper `95%` confidence intervals to calculate the range of the possible outcomes of our $20,000\n",
    "ci_lower = round(tbl[8]*initial_investment,2)\n",
    "ci_upper = round(tbl[9]*initial_investment,2)\n",
    "\n",
    "# Print results\n",
    "print(f\"There is a 95% chance that an initial investment of ${initial_investment} in the portfolio\"\n",
    "      f\" over the next 30 years will end within in the range of\"\n",
    "      f\" ${ci_lower} and ${ci_upper}\")"
   ]
  },
  {
   "cell_type": "markdown",
   "metadata": {},
   "source": [
    "### Calculate the expected portfolio return at the `95%` lower and upper confidence intervals based on a `50%` increase in the initial investment."
   ]
  },
  {
   "cell_type": "code",
   "execution_count": 27,
   "metadata": {},
   "outputs": [
    {
     "name": "stdout",
     "output_type": "stream",
     "text": [
      "There is a 95% chance that an initial investment of $30000.0 in the portfolio over the next 30 years will end within in the range of $94356.05 and $470707.61\n"
     ]
    }
   ],
   "source": [
    "# Set initial investment\n",
    "initial_investment = 20000 * 1.5\n",
    "\n",
    "# Use the lower and upper `95%` confidence intervals to calculate the range of the possible outcomes of our $30,000\n",
    "ci_lower = round(tbl[8]*initial_investment,2)\n",
    "ci_upper = round(tbl[9]*initial_investment,2)\n",
    "\n",
    "# Print results\n",
    "print(f\"There is a 95% chance that an initial investment of ${initial_investment} in the portfolio\"\n",
    "      f\" over the next 30 years will end within in the range of\"\n",
    "      f\" ${ci_lower} and ${ci_upper}\")"
   ]
  },
  {
   "cell_type": "markdown",
   "metadata": {},
   "source": [
    "## Optional Challenge - Early Retirement\n",
    "\n",
    "\n",
    "### Five Years Retirement Option"
   ]
  },
  {
   "cell_type": "code",
   "execution_count": null,
   "metadata": {},
   "outputs": [],
   "source": [
    "# Configuring a Monte Carlo simulation to forecast 5 years cumulative returns\n",
    "# YOUR CODE HERE!"
   ]
  },
  {
   "cell_type": "code",
   "execution_count": null,
   "metadata": {},
   "outputs": [],
   "source": [
    "# Running a Monte Carlo simulation to forecast 5 years cumulative returns\n",
    "# YOUR CODE HERE!"
   ]
  },
  {
   "cell_type": "code",
   "execution_count": null,
   "metadata": {},
   "outputs": [],
   "source": [
    "# Plot simulation outcomes\n",
    "# YOUR CODE HERE!"
   ]
  },
  {
   "cell_type": "code",
   "execution_count": null,
   "metadata": {},
   "outputs": [],
   "source": [
    "# Plot probability distribution and confidence intervals\n",
    "# YOUR CODE HERE!"
   ]
  },
  {
   "cell_type": "code",
   "execution_count": null,
   "metadata": {},
   "outputs": [],
   "source": [
    "# Fetch summary statistics from the Monte Carlo simulation results\n",
    "# YOUR CODE HERE!\n",
    "\n",
    "# Print summary statistics\n",
    "# YOUR CODE HERE!"
   ]
  },
  {
   "cell_type": "code",
   "execution_count": null,
   "metadata": {},
   "outputs": [],
   "source": [
    "# Set initial investment\n",
    "# YOUR CODE HERE!\n",
    "\n",
    "# Use the lower and upper `95%` confidence intervals to calculate the range of the possible outcomes of our $60,000\n",
    "# YOUR CODE HERE!\n",
    "\n",
    "# Print results\n",
    "print(f\"There is a 95% chance that an initial investment of ${initial_investment} in the portfolio\"\n",
    "      f\" over the next 5 years will end within in the range of\"\n",
    "      f\" ${ci_lower_five} and ${ci_upper_five}\")"
   ]
  },
  {
   "cell_type": "markdown",
   "metadata": {},
   "source": [
    "### Ten Years Retirement Option"
   ]
  },
  {
   "cell_type": "code",
   "execution_count": null,
   "metadata": {},
   "outputs": [],
   "source": [
    "# Configuring a Monte Carlo simulation to forecast 10 years cumulative returns\n",
    "# YOUR CODE HERE!"
   ]
  },
  {
   "cell_type": "code",
   "execution_count": null,
   "metadata": {},
   "outputs": [],
   "source": [
    "# Running a Monte Carlo simulation to forecast 10 years cumulative returns\n",
    "# YOUR CODE HERE!"
   ]
  },
  {
   "cell_type": "code",
   "execution_count": null,
   "metadata": {},
   "outputs": [],
   "source": [
    "# Plot simulation outcomes\n",
    "# YOUR CODE HERE!"
   ]
  },
  {
   "cell_type": "code",
   "execution_count": null,
   "metadata": {},
   "outputs": [],
   "source": [
    "# Plot probability distribution and confidence intervals\n",
    "# YOUR CODE HERE!"
   ]
  },
  {
   "cell_type": "code",
   "execution_count": null,
   "metadata": {},
   "outputs": [],
   "source": [
    "# Fetch summary statistics from the Monte Carlo simulation results\n",
    "# YOUR CODE HERE!\n",
    "\n",
    "# Print summary statistics\n",
    "# YOUR CODE HERE!"
   ]
  },
  {
   "cell_type": "code",
   "execution_count": null,
   "metadata": {},
   "outputs": [],
   "source": [
    "# Set initial investment\n",
    "# YOUR CODE HERE!\n",
    "\n",
    "# Use the lower and upper `95%` confidence intervals to calculate the range of the possible outcomes of our $60,000\n",
    "# YOUR CODE HERE!\n",
    "\n",
    "# Print results\n",
    "print(f\"There is a 95% chance that an initial investment of ${initial_investment} in the portfolio\"\n",
    "      f\" over the next 10 years will end within in the range of\"\n",
    "      f\" ${ci_lower_ten} and ${ci_upper_ten}\")"
   ]
  },
  {
   "cell_type": "code",
   "execution_count": null,
   "metadata": {},
   "outputs": [],
   "source": []
  }
 ],
 "metadata": {
  "kernelspec": {
   "display_name": "Python 3 (ipykernel)",
   "language": "python",
   "name": "python3"
  },
  "language_info": {
   "codemirror_mode": {
    "name": "ipython",
    "version": 3
   },
   "file_extension": ".py",
   "mimetype": "text/x-python",
   "name": "python",
   "nbconvert_exporter": "python",
   "pygments_lexer": "ipython3",
   "version": "3.10.13"
  },
  "nteract": {
   "version": "0.28.0"
  }
 },
 "nbformat": 4,
 "nbformat_minor": 4
}
